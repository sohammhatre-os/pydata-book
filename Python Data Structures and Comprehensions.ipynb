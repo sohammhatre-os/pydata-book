{
 "cells": [
  {
   "cell_type": "markdown",
   "id": "104d40af",
   "metadata": {},
   "source": [
    "## Tuples"
   ]
  },
  {
   "cell_type": "code",
   "execution_count": 11,
   "id": "5031b5d3",
   "metadata": {},
   "outputs": [
    {
     "name": "stdout",
     "output_type": "stream",
     "text": [
      "((1, 2, 3), (4, 5, 6))\n",
      "('t', 'u', 'p', 'l', 'e')\n",
      "('foo', [1, 2, 3], True)\n",
      "('foo', [1, 2, 3, 'a'], True)\n"
     ]
    }
   ],
   "source": [
    "## Defining a tuple\n",
    "\n",
    "tup = (1, 2, 3)\n",
    "\n",
    "## Nested Tuple\n",
    "\n",
    "tup = (1, 2, 3), (4, 5, 6)\n",
    "print(tup)\n",
    "\n",
    "## Type Casting to a Tuple\n",
    "\n",
    "tupString = 'tuple'\n",
    "print(tuple(tupString))\n",
    "\n",
    "## Packaging various elements into a tuple\n",
    "tup = tuple(['foo', [1, 2, 3], True])\n",
    "print(tup)\n",
    "\n",
    "# accessing and appending to an element in tuple.\n",
    "tup[1].append('a') \n",
    "print(tup)"
   ]
  },
  {
   "cell_type": "code",
   "execution_count": 12,
   "id": "e8921b94",
   "metadata": {},
   "outputs": [
    {
     "data": {
      "text/plain": [
       "(4, None, 'foo', 6, 0, 'bar')"
      ]
     },
     "execution_count": 12,
     "metadata": {},
     "output_type": "execute_result"
    }
   ],
   "source": [
    "(4, None, 'foo') + (6, 0) + ('bar',)"
   ]
  },
  {
   "cell_type": "code",
   "execution_count": 13,
   "id": "73e5ff48",
   "metadata": {},
   "outputs": [
    {
     "data": {
      "text/plain": [
       "('foo', 'bar', 'foo', 'bar', 'foo', 'bar', 'foo', 'bar')"
      ]
     },
     "execution_count": 13,
     "metadata": {},
     "output_type": "execute_result"
    }
   ],
   "source": [
    "('foo', 'bar') * 4"
   ]
  },
  {
   "cell_type": "code",
   "execution_count": 16,
   "id": "322dc709",
   "metadata": {},
   "outputs": [],
   "source": [
    "# Swapping and unpacking "
   ]
  },
  {
   "cell_type": "code",
   "execution_count": 14,
   "id": "ce82db77",
   "metadata": {},
   "outputs": [
    {
     "name": "stdout",
     "output_type": "stream",
     "text": [
      "5\n"
     ]
    }
   ],
   "source": [
    "tup = (4, 5, 6)\n",
    "a, b, c = tup\n",
    "print(b)"
   ]
  },
  {
   "cell_type": "code",
   "execution_count": 15,
   "id": "56225d9d",
   "metadata": {},
   "outputs": [
    {
     "name": "stdout",
     "output_type": "stream",
     "text": [
      "7\n"
     ]
    }
   ],
   "source": [
    "tup = 4, 5, (6, 7)\n",
    "a, b,(c, d) = tup\n",
    "print(d)"
   ]
  },
  {
   "cell_type": "code",
   "execution_count": 18,
   "id": "f3666285",
   "metadata": {},
   "outputs": [
    {
     "name": "stdout",
     "output_type": "stream",
     "text": [
      "a is 1 & b is 2\n",
      "a is 2 & b is 1\n"
     ]
    }
   ],
   "source": [
    "a = 1; b = 2\n",
    "print(f\"a is {a} & b is {b}\")\n",
    "\n",
    "# Swapping\n",
    "b, a = a, b\n",
    "print(f\"a is {a} & b is {b}\")"
   ]
  },
  {
   "cell_type": "code",
   "execution_count": 19,
   "id": "719dc9e9",
   "metadata": {},
   "outputs": [
    {
     "name": "stdout",
     "output_type": "stream",
     "text": [
      "a=1, b=2, c=3\n",
      "a=4, b=5, c=6\n",
      "a=7, b=8, c=9\n"
     ]
    }
   ],
   "source": [
    "# Unpacking over iterating\n",
    "\n",
    "seq=[(1, 2, 3), (4 , 5, 6), (7, 8, 9)]\n",
    "\n",
    "for a, b, c in seq:\n",
    "    print(f'a={a}, b={b}, c={c}')"
   ]
  },
  {
   "cell_type": "code",
   "execution_count": 20,
   "id": "61af90cd",
   "metadata": {},
   "outputs": [],
   "source": [
    "values = 1, 2, 3, 4, 5 #This is also a tuple\n",
    "a, b, *rest = values"
   ]
  },
  {
   "cell_type": "code",
   "execution_count": 23,
   "id": "c6df0451",
   "metadata": {},
   "outputs": [],
   "source": [
    "# Plucking "
   ]
  },
  {
   "cell_type": "code",
   "execution_count": 22,
   "id": "4455d831",
   "metadata": {},
   "outputs": [
    {
     "data": {
      "text/plain": [
       "[3, 4, 5]"
      ]
     },
     "execution_count": 22,
     "metadata": {},
     "output_type": "execute_result"
    }
   ],
   "source": [
    "rest"
   ]
  },
  {
   "cell_type": "code",
   "execution_count": 24,
   "id": "e28a637c",
   "metadata": {},
   "outputs": [],
   "source": [
    "values = [2,4,6,8,9,10]\n",
    "a, b, *_ = values"
   ]
  },
  {
   "cell_type": "code",
   "execution_count": 28,
   "id": "c54f45a0",
   "metadata": {},
   "outputs": [
    {
     "data": {
      "text/plain": [
       "list"
      ]
     },
     "execution_count": 28,
     "metadata": {},
     "output_type": "execute_result"
    }
   ],
   "source": [
    "type(_)"
   ]
  },
  {
   "cell_type": "code",
   "execution_count": 29,
   "id": "1bd9133e",
   "metadata": {},
   "outputs": [
    {
     "data": {
      "text/plain": [
       "4"
      ]
     },
     "execution_count": 29,
     "metadata": {},
     "output_type": "execute_result"
    }
   ],
   "source": [
    "# Tuple method : COUNT\n",
    "\n",
    "values=2,2,2,2,3,4,5,6,7\n",
    "values.count(2)"
   ]
  },
  {
   "cell_type": "markdown",
   "id": "ca5c1cdc",
   "metadata": {},
   "source": [
    "## Lists"
   ]
  },
  {
   "cell_type": "code",
   "execution_count": 30,
   "id": "6ffd78ab",
   "metadata": {},
   "outputs": [
    {
     "name": "stdout",
     "output_type": "stream",
     "text": [
      "[2, 3, 7, None]\n"
     ]
    }
   ],
   "source": [
    "a_list = [2, 3, 7, None]\n",
    "print(a_list)"
   ]
  },
  {
   "cell_type": "code",
   "execution_count": 45,
   "id": "ab2bbee2",
   "metadata": {},
   "outputs": [
    {
     "name": "stdout",
     "output_type": "stream",
     "text": [
      "['foo', 'bar', 'baz']\n",
      "['foo', 'peekaboo', 'baz']\n"
     ]
    }
   ],
   "source": [
    "tup = (\"foo\", \"bar\", \"baz\")\n",
    "b_list = list(tup)\n",
    "print(b_list)\n",
    "\n",
    "b_list[1] = \"peekaboo\"\n",
    "print(b_list)"
   ]
  },
  {
   "cell_type": "code",
   "execution_count": null,
   "id": "5c59878c",
   "metadata": {},
   "outputs": [],
   "source": [
    "## Append method -> Value addition"
   ]
  },
  {
   "cell_type": "code",
   "execution_count": 46,
   "id": "a0b3537a",
   "metadata": {},
   "outputs": [
    {
     "data": {
      "text/plain": [
       "['foo', 'peekaboo', 'baz', 'append']"
      ]
     },
     "execution_count": 46,
     "metadata": {},
     "output_type": "execute_result"
    }
   ],
   "source": [
    "b_list.append('append')\n",
    "b_list"
   ]
  },
  {
   "cell_type": "code",
   "execution_count": null,
   "id": "dab9cc19",
   "metadata": {},
   "outputs": [],
   "source": [
    "## Insert into list method -> Index Addition"
   ]
  },
  {
   "cell_type": "markdown",
   "id": "5d21822e",
   "metadata": {},
   "source": [
    "insert is computationally expensive compared with append, because references to subsequent elements have to be shifted internally to make room for the new element.\n",
    "\n",
    "If you need to insert elements at both the beginning and end of a sequence, you may wish to explore collections.deque, a double-ended queue, which is optimized for this purpose and found in the Python Standard Library."
   ]
  },
  {
   "cell_type": "code",
   "execution_count": 47,
   "id": "02dd9a41",
   "metadata": {},
   "outputs": [
    {
     "data": {
      "text/plain": [
       "['foo', 'insert', 'peekaboo', 'baz', 'append']"
      ]
     },
     "execution_count": 47,
     "metadata": {},
     "output_type": "execute_result"
    }
   ],
   "source": [
    "b_list.insert(1,'insert')\n",
    "b_list"
   ]
  },
  {
   "cell_type": "code",
   "execution_count": null,
   "id": "a9b73fff",
   "metadata": {},
   "outputs": [],
   "source": [
    "## Pop method -> Index Removal"
   ]
  },
  {
   "cell_type": "code",
   "execution_count": 51,
   "id": "1f55566a",
   "metadata": {},
   "outputs": [
    {
     "data": {
      "text/plain": [
       "['foo', 'insert', 'peekaboo']"
      ]
     },
     "execution_count": 51,
     "metadata": {},
     "output_type": "execute_result"
    }
   ],
   "source": [
    "b_list.pop(-1) \n",
    "b_list"
   ]
  },
  {
   "cell_type": "code",
   "execution_count": null,
   "id": "39de0ac6",
   "metadata": {},
   "outputs": [],
   "source": [
    "## Remove method -> Value removal"
   ]
  },
  {
   "cell_type": "code",
   "execution_count": 52,
   "id": "daa57d20",
   "metadata": {},
   "outputs": [
    {
     "data": {
      "text/plain": [
       "['foo', 'peekaboo']"
      ]
     },
     "execution_count": 52,
     "metadata": {},
     "output_type": "execute_result"
    }
   ],
   "source": [
    "b_list.remove('insert')\n",
    "b_list"
   ]
  },
  {
   "cell_type": "code",
   "execution_count": null,
   "id": "d17089e9",
   "metadata": {},
   "outputs": [],
   "source": [
    "## Value Check in a list"
   ]
  },
  {
   "cell_type": "code",
   "execution_count": 53,
   "id": "cc92e84c",
   "metadata": {},
   "outputs": [
    {
     "name": "stdout",
     "output_type": "stream",
     "text": [
      "True\n",
      "True\n"
     ]
    }
   ],
   "source": [
    "a = \"foo\" in b_list\n",
    "print(a)\n",
    "b = \"insert\" not in b_list\n",
    "print(b)"
   ]
  },
  {
   "cell_type": "code",
   "execution_count": null,
   "id": "c4938c9a",
   "metadata": {},
   "outputs": [],
   "source": [
    "## Concatenating Lists"
   ]
  },
  {
   "cell_type": "code",
   "execution_count": 54,
   "id": "6c1d1837",
   "metadata": {},
   "outputs": [
    {
     "data": {
      "text/plain": [
       "[4, None, 'foo', 7, 8, (2, 3)]"
      ]
     },
     "execution_count": 54,
     "metadata": {},
     "output_type": "execute_result"
    }
   ],
   "source": [
    "[4, None, \"foo\"] + [7, 8, (2, 3)]"
   ]
  },
  {
   "cell_type": "code",
   "execution_count": null,
   "id": "4208d3bc",
   "metadata": {},
   "outputs": [],
   "source": [
    "## extend method"
   ]
  },
  {
   "cell_type": "code",
   "execution_count": 59,
   "id": "8b1d2d8e",
   "metadata": {},
   "outputs": [
    {
     "data": {
      "text/plain": [
       "[4, None, 'foo', 7, 8, (2, 3)]"
      ]
     },
     "execution_count": 59,
     "metadata": {},
     "output_type": "execute_result"
    }
   ],
   "source": [
    "a=[4, None, \"foo\"]\n",
    "a.extend([7, 8, (2, 3)])\n",
    "a"
   ]
  },
  {
   "cell_type": "markdown",
   "id": "60dfc29d",
   "metadata": {},
   "source": [
    "[for long lists] extend over concatenate as extend is less computationally expensive \n",
    "\n",
    "[for short lists] concatenaten over extend"
   ]
  },
  {
   "cell_type": "code",
   "execution_count": 62,
   "id": "7fd30bb2",
   "metadata": {},
   "outputs": [],
   "source": [
    "import time"
   ]
  },
  {
   "cell_type": "code",
   "execution_count": 65,
   "id": "b5debdc5",
   "metadata": {},
   "outputs": [
    {
     "name": "stdout",
     "output_type": "stream",
     "text": [
      "1688224478.343518\n",
      "\n",
      " [4]\n",
      "\n",
      " [None]\n",
      "\n",
      " ['foo']\n",
      "\n",
      " [7]\n",
      "\n",
      " [8]\n",
      "\n",
      " [(2, 3)]\n",
      "\n",
      " [(2, 3)]\n",
      "1688224478.343915\n",
      "0.00039696693420410156\n",
      "1688224478.344362\n",
      "\n",
      " [4]\n",
      "\n",
      " [None]\n",
      "\n",
      " ['foo']\n",
      "\n",
      " [7]\n",
      "\n",
      " [8]\n",
      "\n",
      " [(2, 3)]\n",
      "\n",
      " [(2, 3)]\n",
      "1688224478.3446221\n",
      "0.0002601146697998047\n"
     ]
    }
   ],
   "source": [
    "a=[[4], [None], ['foo'], [7], [8], [(2, 3)], [(2, 3)]]\n",
    "\n",
    "start = time.time()\n",
    "print(start)\n",
    "\n",
    "everything = []\n",
    "for chunk in a:\n",
    "    print(f\"\\n {chunk}\")\n",
    "    everything.extend(chunk)\n",
    "\n",
    "end = time.time()\n",
    "\n",
    "print(end)\n",
    "print(end-start)\n",
    "\n",
    "\n",
    "## over \n",
    "\n",
    "start = time.time()\n",
    "print(start)\n",
    "\n",
    "everything = []\n",
    "for chunk in a:\n",
    "    print(f\"\\n {chunk}\")\n",
    "    everything = everything + chunk\n",
    "\n",
    "end = time.time()\n",
    "\n",
    "\n",
    "print(end)\n",
    "print(end-start)"
   ]
  },
  {
   "cell_type": "code",
   "execution_count": null,
   "id": "3091a6c4",
   "metadata": {},
   "outputs": [],
   "source": [
    "## Sorting"
   ]
  },
  {
   "cell_type": "code",
   "execution_count": 66,
   "id": "0320c9be",
   "metadata": {},
   "outputs": [],
   "source": [
    "a=[7,2,5,1,3]\n",
    "a.sort()"
   ]
  },
  {
   "cell_type": "code",
   "execution_count": 67,
   "id": "d1edd321",
   "metadata": {},
   "outputs": [
    {
     "data": {
      "text/plain": [
       "[1, 2, 3, 5, 7]"
      ]
     },
     "execution_count": 67,
     "metadata": {},
     "output_type": "execute_result"
    }
   ],
   "source": [
    "a"
   ]
  },
  {
   "cell_type": "code",
   "execution_count": null,
   "id": "fdf07c73",
   "metadata": {},
   "outputs": [],
   "source": [
    "## Sorting by length"
   ]
  },
  {
   "cell_type": "code",
   "execution_count": 68,
   "id": "11ebf4f4",
   "metadata": {},
   "outputs": [],
   "source": [
    "b = [\"saw\", \"small\", \"He\", \"foxes\", \"six\"]\n",
    "b.sort(key=len)"
   ]
  },
  {
   "cell_type": "code",
   "execution_count": 69,
   "id": "7fc831ae",
   "metadata": {},
   "outputs": [
    {
     "data": {
      "text/plain": [
       "['He', 'saw', 'six', 'small', 'foxes']"
      ]
     },
     "execution_count": 69,
     "metadata": {},
     "output_type": "execute_result"
    }
   ],
   "source": [
    "b"
   ]
  },
  {
   "cell_type": "code",
   "execution_count": null,
   "id": "15cb5c06",
   "metadata": {},
   "outputs": [],
   "source": [
    "## Slicing"
   ]
  },
  {
   "cell_type": "code",
   "execution_count": 71,
   "id": "ad12d5a5",
   "metadata": {},
   "outputs": [
    {
     "data": {
      "text/plain": [
       "['He', 'saw', 'six']"
      ]
     },
     "execution_count": 71,
     "metadata": {},
     "output_type": "execute_result"
    }
   ],
   "source": [
    "b[:3]"
   ]
  },
  {
   "cell_type": "code",
   "execution_count": null,
   "id": "bb025448",
   "metadata": {},
   "outputs": [],
   "source": [
    "## Replacing a Sequence"
   ]
  },
  {
   "cell_type": "code",
   "execution_count": 72,
   "id": "a20c062a",
   "metadata": {},
   "outputs": [
    {
     "data": {
      "text/plain": [
       "['He', 'saw', 'six', 'huge', 'elephants']"
      ]
     },
     "execution_count": 72,
     "metadata": {},
     "output_type": "execute_result"
    }
   ],
   "source": [
    "b[3:5]=[\"huge\", \"elephants\"]\n",
    "b"
   ]
  },
  {
   "cell_type": "code",
   "execution_count": null,
   "id": "cd0ab164",
   "metadata": {},
   "outputs": [],
   "source": [
    "## Negative Index Slicing"
   ]
  },
  {
   "cell_type": "code",
   "execution_count": 73,
   "id": "e16bb76d",
   "metadata": {},
   "outputs": [
    {
     "data": {
      "text/plain": [
       "['six', 'huge', 'elephants']"
      ]
     },
     "execution_count": 73,
     "metadata": {},
     "output_type": "execute_result"
    }
   ],
   "source": [
    "b[-3:]"
   ]
  },
  {
   "cell_type": "code",
   "execution_count": 77,
   "id": "7bf3969c",
   "metadata": {},
   "outputs": [
    {
     "data": {
      "text/plain": [
       "['six']"
      ]
     },
     "execution_count": 77,
     "metadata": {},
     "output_type": "execute_result"
    }
   ],
   "source": [
    "b[-3:-2]"
   ]
  },
  {
   "cell_type": "code",
   "execution_count": 78,
   "id": "27dc9cb2",
   "metadata": {},
   "outputs": [],
   "source": [
    "## Step Slicing : Double colon"
   ]
  },
  {
   "cell_type": "code",
   "execution_count": 79,
   "id": "0ea00562",
   "metadata": {},
   "outputs": [
    {
     "data": {
      "text/plain": [
       "['He', 'six', 'elephants']"
      ]
     },
     "execution_count": 79,
     "metadata": {},
     "output_type": "execute_result"
    }
   ],
   "source": [
    "b[::2]"
   ]
  },
  {
   "cell_type": "code",
   "execution_count": null,
   "id": "94cd2947",
   "metadata": {},
   "outputs": [],
   "source": [
    "## Reversing a list with step slicing"
   ]
  },
  {
   "cell_type": "code",
   "execution_count": 81,
   "id": "ea206853",
   "metadata": {},
   "outputs": [
    {
     "data": {
      "text/plain": [
       "['elephants', 'huge', 'six', 'saw', 'He']"
      ]
     },
     "execution_count": 81,
     "metadata": {},
     "output_type": "execute_result"
    }
   ],
   "source": [
    "b[::-1]"
   ]
  },
  {
   "cell_type": "markdown",
   "id": "8a19702e",
   "metadata": {},
   "source": [
    "## Dictionaries\n",
    "* also called as hash-maps, assosciative arrays\n",
    "* stores key value pairs\n"
   ]
  },
  {
   "cell_type": "code",
   "execution_count": 84,
   "id": "769793cc",
   "metadata": {},
   "outputs": [
    {
     "data": {
      "text/plain": [
       "{'a': 'some value', 'b': [1, 2, 3, 4]}"
      ]
     },
     "execution_count": 84,
     "metadata": {},
     "output_type": "execute_result"
    }
   ],
   "source": [
    "d1 = {\"a\": \"some value\", \"b\": [1, 2, 3, 4]}\n",
    "d1"
   ]
  },
  {
   "cell_type": "code",
   "execution_count": null,
   "id": "6fb461e9",
   "metadata": {},
   "outputs": [],
   "source": [
    "# Inserting an element"
   ]
  },
  {
   "cell_type": "code",
   "execution_count": 85,
   "id": "cf360448",
   "metadata": {},
   "outputs": [
    {
     "data": {
      "text/plain": [
       "{'a': 'some value', 'b': [1, 2, 3, 4], 'c': 45}"
      ]
     },
     "execution_count": 85,
     "metadata": {},
     "output_type": "execute_result"
    }
   ],
   "source": [
    "d1[\"c\"] = 45\n",
    "d1"
   ]
  },
  {
   "cell_type": "code",
   "execution_count": 86,
   "id": "8246fadc",
   "metadata": {},
   "outputs": [
    {
     "data": {
      "text/plain": [
       "[1, 2, 3, 4]"
      ]
     },
     "execution_count": 86,
     "metadata": {},
     "output_type": "execute_result"
    }
   ],
   "source": [
    "d1[\"b\"]"
   ]
  },
  {
   "cell_type": "code",
   "execution_count": null,
   "id": "80db298d",
   "metadata": {},
   "outputs": [],
   "source": [
    "## Checking using a key"
   ]
  },
  {
   "cell_type": "code",
   "execution_count": 88,
   "id": "1ef66ece",
   "metadata": {},
   "outputs": [
    {
     "data": {
      "text/plain": [
       "{'a': 'some value', 'b': [1, 2, 3, 4], 'c': 45}"
      ]
     },
     "execution_count": 88,
     "metadata": {},
     "output_type": "execute_result"
    }
   ],
   "source": [
    "d1"
   ]
  },
  {
   "cell_type": "code",
   "execution_count": 89,
   "id": "49fb0fd0",
   "metadata": {},
   "outputs": [
    {
     "data": {
      "text/plain": [
       "True"
      ]
     },
     "execution_count": 89,
     "metadata": {},
     "output_type": "execute_result"
    }
   ],
   "source": [
    "a= \"c\" in d1\n",
    "a"
   ]
  },
  {
   "cell_type": "code",
   "execution_count": null,
   "id": "f0d15d43",
   "metadata": {},
   "outputs": [],
   "source": [
    "## del method in dictionary : deleting"
   ]
  },
  {
   "cell_type": "code",
   "execution_count": 90,
   "id": "bab23326",
   "metadata": {},
   "outputs": [],
   "source": [
    "del d1['c']"
   ]
  },
  {
   "cell_type": "code",
   "execution_count": 92,
   "id": "abbdf4cc",
   "metadata": {},
   "outputs": [],
   "source": [
    "d1['c']=345"
   ]
  },
  {
   "cell_type": "code",
   "execution_count": 93,
   "id": "d95cdc7e",
   "metadata": {},
   "outputs": [
    {
     "data": {
      "text/plain": [
       "{'a': 'some value', 'b': [1, 2, 3, 4], 'c': 345}"
      ]
     },
     "execution_count": 93,
     "metadata": {},
     "output_type": "execute_result"
    }
   ],
   "source": [
    "d1"
   ]
  },
  {
   "cell_type": "code",
   "execution_count": 94,
   "id": "d3742cd9",
   "metadata": {},
   "outputs": [
    {
     "data": {
      "text/plain": [
       "345"
      ]
     },
     "execution_count": 94,
     "metadata": {},
     "output_type": "execute_result"
    }
   ],
   "source": [
    "d1.pop(\"c\")"
   ]
  },
  {
   "cell_type": "code",
   "execution_count": 95,
   "id": "f612d25f",
   "metadata": {},
   "outputs": [
    {
     "data": {
      "text/plain": [
       "{'a': 'some value', 'b': [1, 2, 3, 4]}"
      ]
     },
     "execution_count": 95,
     "metadata": {},
     "output_type": "execute_result"
    }
   ],
   "source": [
    "d1"
   ]
  },
  {
   "cell_type": "code",
   "execution_count": 96,
   "id": "53dce51e",
   "metadata": {},
   "outputs": [],
   "source": [
    "## Accessing Keys and Values of a Dict"
   ]
  },
  {
   "cell_type": "code",
   "execution_count": 98,
   "id": "99b1791f",
   "metadata": {},
   "outputs": [
    {
     "data": {
      "text/plain": [
       "['a', 'b']"
      ]
     },
     "execution_count": 98,
     "metadata": {},
     "output_type": "execute_result"
    }
   ],
   "source": [
    "list(d1.keys())"
   ]
  },
  {
   "cell_type": "code",
   "execution_count": 99,
   "id": "d76c99b5",
   "metadata": {},
   "outputs": [
    {
     "data": {
      "text/plain": [
       "['some value', [1, 2, 3, 4]]"
      ]
     },
     "execution_count": 99,
     "metadata": {},
     "output_type": "execute_result"
    }
   ],
   "source": [
    "list(d1.values())"
   ]
  },
  {
   "cell_type": "code",
   "execution_count": 100,
   "id": "c8e5f3a9",
   "metadata": {},
   "outputs": [],
   "source": [
    "## Iterate over both key-value pairs"
   ]
  },
  {
   "cell_type": "code",
   "execution_count": 101,
   "id": "920d2335",
   "metadata": {},
   "outputs": [
    {
     "data": {
      "text/plain": [
       "[('a', 'some value'), ('b', [1, 2, 3, 4])]"
      ]
     },
     "execution_count": 101,
     "metadata": {},
     "output_type": "execute_result"
    }
   ],
   "source": [
    "list(d1.items()) #Converts key value pairs into tuples and makes them into a 2 tuple list"
   ]
  },
  {
   "cell_type": "code",
   "execution_count": 102,
   "id": "f5200655",
   "metadata": {},
   "outputs": [],
   "source": [
    "## Merge dictionary into another or update one. \n",
    "# Be aware of the key that you are passing, as it might replace existing data"
   ]
  },
  {
   "cell_type": "code",
   "execution_count": 104,
   "id": "c8e67f74",
   "metadata": {},
   "outputs": [
    {
     "data": {
      "text/plain": [
       "{'a': 'some value', 'b': 'foo', 'c': 12}"
      ]
     },
     "execution_count": 104,
     "metadata": {},
     "output_type": "execute_result"
    }
   ],
   "source": [
    "d1.update({\"b\": \"foo\", \"c\": 12})\n",
    "d1"
   ]
  },
  {
   "cell_type": "code",
   "execution_count": 105,
   "id": "a2df6195",
   "metadata": {},
   "outputs": [],
   "source": [
    "## Creating dictionary from sequences"
   ]
  },
  {
   "cell_type": "code",
   "execution_count": 107,
   "id": "21a9b44e",
   "metadata": {},
   "outputs": [],
   "source": [
    "mapping = {}\n",
    "## Using zip to create key value zips (tuples)\n",
    "for key, value in zip(list(d1.keys()), list(d1.values())):\n",
    "    mapping[key] = value"
   ]
  },
  {
   "cell_type": "code",
   "execution_count": 108,
   "id": "f25b3556",
   "metadata": {},
   "outputs": [
    {
     "data": {
      "text/plain": [
       "{'a': 'some value', 'b': 'foo', 'c': 12}"
      ]
     },
     "execution_count": 108,
     "metadata": {},
     "output_type": "execute_result"
    }
   ],
   "source": [
    "mapping"
   ]
  },
  {
   "cell_type": "code",
   "execution_count": null,
   "id": "08816cca",
   "metadata": {},
   "outputs": [],
   "source": [
    "## Zipping as 2 value tuples"
   ]
  },
  {
   "cell_type": "code",
   "execution_count": 109,
   "id": "5d205c65",
   "metadata": {},
   "outputs": [
    {
     "data": {
      "text/plain": [
       "{0: 4, 1: 3, 2: 2, 3: 1, 4: 0}"
      ]
     },
     "execution_count": 109,
     "metadata": {},
     "output_type": "execute_result"
    }
   ],
   "source": [
    "tuples = zip(range(5),reversed(range(5)))\n",
    "mapping = dict(tuples)\n",
    "mapping"
   ]
  },
  {
   "cell_type": "code",
   "execution_count": 110,
   "id": "7c68f176",
   "metadata": {},
   "outputs": [],
   "source": [
    "'''\n",
    "get method :\n",
    "get by default will return None if the key is not present, while pop will raise an exception. \n",
    "With setting values, it may be that the values in a dictionary are another kind of collection, like a list.\n",
    "'''"
   ]
  },
  {
   "cell_type": "code",
   "execution_count": null,
   "id": "f5691b2b",
   "metadata": {},
   "outputs": [],
   "source": [
    "## Example: Code for setting key as the first letter of every word in a DICT:"
   ]
  },
  {
   "cell_type": "code",
   "execution_count": 112,
   "id": "e9708321",
   "metadata": {},
   "outputs": [],
   "source": [
    "words = [\"apple\", \"bat\", \"bar\", \"atom\", \"book\"]"
   ]
  },
  {
   "cell_type": "code",
   "execution_count": 113,
   "id": "a129ac71",
   "metadata": {},
   "outputs": [
    {
     "data": {
      "text/plain": [
       "{'a': ['apple', 'atom'], 'b': ['bat', 'bar', 'book']}"
      ]
     },
     "execution_count": 113,
     "metadata": {},
     "output_type": "execute_result"
    }
   ],
   "source": [
    "by_letter={}\n",
    "for word in words:\n",
    "    letter = word[0]\n",
    "    if letter not in by_letter: \n",
    "        by_letter[letter]=[word]\n",
    "    else:\n",
    "        by_letter[letter].append(word)\n",
    "by_letter"
   ]
  },
  {
   "cell_type": "code",
   "execution_count": 115,
   "id": "6b0a3931",
   "metadata": {},
   "outputs": [
    {
     "name": "stdout",
     "output_type": "stream",
     "text": [
      "['apple', 'atom']\n",
      "None\n"
     ]
    }
   ],
   "source": [
    "print(by_letter.get('a'))\n",
    "print(by_letter.get('c'))"
   ]
  },
  {
   "cell_type": "code",
   "execution_count": null,
   "id": "5ea39647",
   "metadata": {},
   "outputs": [],
   "source": [
    "## set default method:"
   ]
  },
  {
   "cell_type": "code",
   "execution_count": 126,
   "id": "e26c2aba",
   "metadata": {},
   "outputs": [
    {
     "data": {
      "text/plain": [
       "{'a': ['apple', 'atom'], 'b': ['bat', 'bar', 'book']}"
      ]
     },
     "execution_count": 126,
     "metadata": {},
     "output_type": "execute_result"
    }
   ],
   "source": [
    "by_letter={}\n",
    "for word in words:\n",
    "    letter = word[0]\n",
    "    by_letter.setdefault(letter, []).append(word)\n",
    "by_letter"
   ]
  },
  {
   "cell_type": "code",
   "execution_count": 127,
   "id": "2ea5391e",
   "metadata": {},
   "outputs": [],
   "source": [
    "## Collections : defaultdict"
   ]
  },
  {
   "cell_type": "code",
   "execution_count": 129,
   "id": "3d4c8071",
   "metadata": {},
   "outputs": [
    {
     "data": {
      "text/plain": [
       "defaultdict(list, {'a': ['apple', 'atom'], 'b': ['bat', 'bar', 'book']})"
      ]
     },
     "execution_count": 129,
     "metadata": {},
     "output_type": "execute_result"
    }
   ],
   "source": [
    "from collections import defaultdict\n",
    "by_letter = defaultdict(list)\n",
    "for word in words:\n",
    "    by_letter[word[0]].append(word)\n",
    "by_letter"
   ]
  },
  {
   "cell_type": "code",
   "execution_count": null,
   "id": "41b07c67",
   "metadata": {},
   "outputs": [],
   "source": [
    "## Valid Dictionary Key Types\n",
    "## immutable objects like scalar types (int,float,string) or tuples.\n",
    "# Check hashability -> use hash function."
   ]
  },
  {
   "cell_type": "code",
   "execution_count": 130,
   "id": "1f45ff1f",
   "metadata": {},
   "outputs": [
    {
     "name": "stdout",
     "output_type": "stream",
     "text": [
      "1224004552999340207\n",
      "-9209053662355515447\n"
     ]
    },
    {
     "ename": "TypeError",
     "evalue": "unhashable type: 'list'",
     "output_type": "error",
     "traceback": [
      "\u001b[0;31m---------------------------------------------------------------------------\u001b[0m",
      "\u001b[0;31mTypeError\u001b[0m                                 Traceback (most recent call last)",
      "Cell \u001b[0;32mIn[130], line 3\u001b[0m\n\u001b[1;32m      1\u001b[0m \u001b[38;5;28mprint\u001b[39m(\u001b[38;5;28mhash\u001b[39m(\u001b[38;5;124m\"\u001b[39m\u001b[38;5;124mstring\u001b[39m\u001b[38;5;124m\"\u001b[39m))\n\u001b[1;32m      2\u001b[0m \u001b[38;5;28mprint\u001b[39m(\u001b[38;5;28mhash\u001b[39m((\u001b[38;5;241m1\u001b[39m, \u001b[38;5;241m2\u001b[39m, (\u001b[38;5;241m2\u001b[39m, \u001b[38;5;241m3\u001b[39m))))\n\u001b[0;32m----> 3\u001b[0m \u001b[38;5;28mprint\u001b[39m(\u001b[38;5;28;43mhash\u001b[39;49m\u001b[43m(\u001b[49m\u001b[43m(\u001b[49m\u001b[38;5;241;43m1\u001b[39;49m\u001b[43m,\u001b[49m\u001b[43m \u001b[49m\u001b[38;5;241;43m2\u001b[39;49m\u001b[43m,\u001b[49m\u001b[43m \u001b[49m\u001b[43m[\u001b[49m\u001b[38;5;241;43m2\u001b[39;49m\u001b[43m,\u001b[49m\u001b[43m \u001b[49m\u001b[38;5;241;43m3\u001b[39;49m\u001b[43m]\u001b[49m\u001b[43m)\u001b[49m\u001b[43m)\u001b[49m)\n",
      "\u001b[0;31mTypeError\u001b[0m: unhashable type: 'list'"
     ]
    }
   ],
   "source": [
    "print(hash(\"string\"))\n",
    "print(hash((1, 2, (2, 3))))\n",
    "print(hash((1, 2, [2, 3]))) ## Fails as lists are immutable"
   ]
  },
  {
   "cell_type": "code",
   "execution_count": null,
   "id": "fa66160d",
   "metadata": {},
   "outputs": [],
   "source": [
    "## Using list as a key -> Convert into tuple"
   ]
  },
  {
   "cell_type": "code",
   "execution_count": 131,
   "id": "cad0879b",
   "metadata": {},
   "outputs": [
    {
     "data": {
      "text/plain": [
       "{(1, 2, 3): 5}"
      ]
     },
     "execution_count": 131,
     "metadata": {},
     "output_type": "execute_result"
    }
   ],
   "source": [
    "d = {}\n",
    "d[tuple([1, 2, 3])] = 5\n",
    "d"
   ]
  },
  {
   "cell_type": "code",
   "execution_count": 145,
   "id": "4a522b19",
   "metadata": {},
   "outputs": [],
   "source": [
    "d[tuple([4,2])]=4"
   ]
  },
  {
   "cell_type": "code",
   "execution_count": 139,
   "id": "9bb69a08",
   "metadata": {},
   "outputs": [
    {
     "data": {
      "text/plain": [
       "True"
      ]
     },
     "execution_count": 139,
     "metadata": {},
     "output_type": "execute_result"
    }
   ],
   "source": [
    "3 in list(d.keys())[0]"
   ]
  },
  {
   "cell_type": "code",
   "execution_count": 162,
   "id": "3dca730e",
   "metadata": {},
   "outputs": [],
   "source": [
    "## Code to find element of key tuples in dictionary\n",
    "values=[]\n",
    "item = 2\n",
    "for key in range(len(list(d.keys()))):\n",
    "    if item in list(list(d.keys())[key]):\n",
    "         values.append(list(d.values())[key])"
   ]
  },
  {
   "cell_type": "code",
   "execution_count": 164,
   "id": "686b96b9",
   "metadata": {},
   "outputs": [
    {
     "name": "stdout",
     "output_type": "stream",
     "text": [
      "{(1, 2, 3): 4, (4, 2): 4}\n",
      "[4, 4]\n"
     ]
    }
   ],
   "source": [
    "print(d)\n",
    "print(values)"
   ]
  },
  {
   "cell_type": "markdown",
   "id": "79f94030",
   "metadata": {},
   "source": [
    "## Sets\n",
    "* set is an unordered collection of unique elements\n",
    "* mathematical set operations like union, intersection, difference, and symmetric difference"
   ]
  },
  {
   "cell_type": "code",
   "execution_count": 165,
   "id": "0db39d5f",
   "metadata": {},
   "outputs": [
    {
     "name": "stdout",
     "output_type": "stream",
     "text": [
      "{1, 2, 3}\n",
      "{1, 2, 3}\n"
     ]
    }
   ],
   "source": [
    "## Defining a Set\n",
    "\n",
    "a = set([2, 2, 2, 1, 3, 3])\n",
    "print(a)\n",
    "a = {2,2,2,1,3,3}\n",
    "print(a)"
   ]
  },
  {
   "cell_type": "code",
   "execution_count": 173,
   "id": "8a2fba1e",
   "metadata": {},
   "outputs": [
    {
     "name": "stdout",
     "output_type": "stream",
     "text": [
      "These are the two sets: \n",
      "a:{1, 2, 3, 4, 5}\t b:{3, 4, 5, 6, 7, 8} \n",
      "\n",
      "a.union(b) produces union of sets a and b as follows: \n",
      "{1, 2, 3, 4, 5, 6, 7, 8}\n",
      "a|b produces union of sets a and b as follows: \n",
      "{1, 2, 3, 4, 5, 6, 7, 8} \n",
      "\n",
      "a.intersection(b) produces intersection of sets a and b as follows: \n",
      "{3, 4, 5} \n",
      "\n",
      "a&b produces intersection of sets a and b as follows: \n",
      "{3, 4, 5} \n",
      "\n",
      "a.add(10) produces add element 10 to set a as follows: \n",
      "{1, 2, 3, 4, 5, 10}\n",
      "\n",
      "a.clear() results in: set()\n",
      "a.difference(b) produces All of the elements in a but not in b : \n",
      "{1, 2}\n",
      "\n",
      "a.symmetric_difference(b) produces All of the elements in either a or b but not both : \n",
      "{1, 2}\n",
      "\n",
      "a.issubset(b) is true if the elements of a are all contained in b: \n",
      "False\n",
      "  \n",
      "a.issuperset(b) is true if the elements of b are all contained in a: \n",
      "True\n",
      " \n",
      "a.isdisjoint(b)  is True if a and b have no elements in common:\n",
      "False\n",
      " \n",
      "a.difference_update(b) produces:\n",
      "{1, 2}\n"
     ]
    }
   ],
   "source": [
    "a = {1,2,3,4,5}\n",
    "b = {3,4,5,6,7,8}\n",
    "\n",
    "print(f\"These are the two sets: \\na:{a}\\t b:{b} \\n\")\n",
    "\n",
    "## Union \n",
    "print(f\"a.union(b) produces union of sets a and b as follows: \\n{a.union(b)}\")\n",
    "print(f\"a|b produces union of sets a and b as follows: \\n{a|b} \\n\")\n",
    "      \n",
    "## Intersection\n",
    "print(f\"a.intersection(b) produces intersection of sets a and b as follows: \\n{a.intersection(b)} \\n\")\n",
    "print(f\"a&b produces intersection of sets a and b as follows: \\n{a&b} \\n\")\n",
    "\n",
    "      \n",
    "## Add \n",
    "a.add(10)\n",
    "print(f\"a.add(10) produces add element 10 to set a as follows: \\n{a}\\n\")\n",
    "\n",
    "## Clear - Reset set to an empty set\n",
    "a.clear()\n",
    "print(f\"a.clear() results in: {a}\")\n",
    "\n",
    "a = {1,2,3,4,5,6,7,8}\n",
    "b = {3,4,5,6,7,8}\n",
    "      \n",
    "## Difference \n",
    "print(f\"a.difference(b) produces All of the elements in a but not in b : \\n{a.difference(b)}\\n\")\n",
    "      \n",
    "## Symmetric Difference\n",
    "print(f\"a.symmetric_difference(b) produces All of the elements in either a or b but not both : \\n{a.symmetric_difference(b)}\\n\")\n",
    "      \n",
    "## Subset \n",
    "print(f\"a.issubset(b) is true if the elements of a are all contained in b: \\n{a.issubset(b)}\\n  \")\n",
    "      \n",
    "## Superset\n",
    "print(f\"a.issuperset(b) is true if the elements of b are all contained in a: \\n{a.issuperset(b)}\\n \")\n",
    "      \n",
    "## Disjoint Sets\n",
    "print(f\"a.isdisjoint(b)  is True if a and b have no elements in common:\\n{a.isdisjoint(b)}\\n \")   \n",
    "      \n",
    "## Update methods\n",
    "## Add _update for all methods to replace the existing set with the result\n",
    "{a.difference_update(b)}\n",
    "print(f\"a.difference_update(b) produces:\\n{a}\")\n"
   ]
  },
  {
   "cell_type": "code",
   "execution_count": 174,
   "id": "9e8a3459",
   "metadata": {},
   "outputs": [
    {
     "data": {
      "text/plain": [
       "True"
      ]
     },
     "execution_count": 174,
     "metadata": {},
     "output_type": "execute_result"
    }
   ],
   "source": [
    "## Equality of Sets: equal if and only if their contents are equal:\n",
    "{1,2,3}=={3,2,1}"
   ]
  },
  {
   "cell_type": "markdown",
   "id": "00586cda",
   "metadata": {},
   "source": [
    "## Comprehensions"
   ]
  },
  {
   "cell_type": "code",
   "execution_count": 175,
   "id": "52478171",
   "metadata": {},
   "outputs": [],
   "source": [
    "## List Comprehensions"
   ]
  },
  {
   "cell_type": "code",
   "execution_count": null,
   "id": "7a397395",
   "metadata": {},
   "outputs": [],
   "source": [
    "'''\n",
    "[expr for value in collection if condition]:\n",
    "result = []\n",
    "    for value in collection:\n",
    "if condition: result.append(expr)\n",
    "'''"
   ]
  },
  {
   "cell_type": "code",
   "execution_count": 178,
   "id": "40b5aaba",
   "metadata": {},
   "outputs": [
    {
     "data": {
      "text/plain": [
       "['BAT', 'CAR', 'DOVE', 'PYTHON']"
      ]
     },
     "execution_count": 178,
     "metadata": {},
     "output_type": "execute_result"
    }
   ],
   "source": [
    "## Use case: remove stop words or filter by length:\n",
    "\n",
    "strings = [\"a\", \"as\", \"bat\", \"car\", \"dove\", \"python\"]\n",
    "[word.upper() for word in strings if len(word) > 2 ]"
   ]
  },
  {
   "cell_type": "code",
   "execution_count": null,
   "id": "5306a5c9",
   "metadata": {},
   "outputs": [],
   "source": [
    "## Dictionary Comprehension\n",
    "''' dict_comp = {key-expr: value-expr for value in collection if condition} '''\n",
    "\n",
    "## Set Comprehension\n",
    "\n",
    "''' set_comp = {expr for value in collection if condition} '''"
   ]
  },
  {
   "cell_type": "code",
   "execution_count": 180,
   "id": "4ffee79f",
   "metadata": {},
   "outputs": [
    {
     "data": {
      "text/plain": [
       "{1, 2, 3, 4, 6}"
      ]
     },
     "execution_count": 180,
     "metadata": {},
     "output_type": "execute_result"
    }
   ],
   "source": [
    "## Use case: Calculating list of length of strings\n",
    "length_of_strings={ len(word) for word in strings }\n",
    "length_of_strings"
   ]
  },
  {
   "cell_type": "code",
   "execution_count": 182,
   "id": "f306e10b",
   "metadata": {},
   "outputs": [
    {
     "data": {
      "text/plain": [
       "{1, 2, 3, 4, 6}"
      ]
     },
     "execution_count": 182,
     "metadata": {},
     "output_type": "execute_result"
    }
   ],
   "source": [
    "## map function\n",
    "set(map(len,strings))"
   ]
  },
  {
   "cell_type": "code",
   "execution_count": 183,
   "id": "564a8d52",
   "metadata": {},
   "outputs": [
    {
     "data": {
      "text/plain": [
       "{0: 'a', 1: 'as', 2: 'bat', 3: 'car', 4: 'dove', 5: 'python'}"
      ]
     },
     "execution_count": 183,
     "metadata": {},
     "output_type": "execute_result"
    }
   ],
   "source": [
    "## Location Mapping: Use of dict comprehension\n",
    "loc_mapping= {index:value for index, value in enumerate(strings)}\n",
    "loc_mapping"
   ]
  },
  {
   "cell_type": "code",
   "execution_count": 186,
   "id": "d4c3c757",
   "metadata": {},
   "outputs": [
    {
     "name": "stdout",
     "output_type": "stream",
     "text": [
      "['Maria', 'Natalia']\n",
      "['Maria', 'Natalia']\n"
     ]
    }
   ],
   "source": [
    "## Nested List Comprehensions\n",
    "## Code: To find names_of_interest defined as words having two or more a's in the list of lists \n",
    "\n",
    "all_data = [[\"John\", \"Emily\", \"Michael\", \"Mary\", \"Steven\"],[\"Maria\", \"Juan\", \"Javier\", \"Natalia\", \"Pilar\"]]\n",
    "names_of_interest = []\n",
    "for names in all_data:\n",
    "    ## Iterates through names in each list and finds words with desired a's occurrences:\n",
    "    enough_a_occurrences =  [name for name in names if name.count('a') >= 2] \n",
    "    names_of_interest.extend(enough_a_occurrences)\n",
    "print(names_of_interest)\n",
    "\n",
    "# Solving with Nested List Comprehensions\n",
    "### Note: What gets nested is the for loop\n",
    "names_of_interest = [name for names in all_data for name in names if name.count('a') >= 2]\n",
    "print(names_of_interest)"
   ]
  },
  {
   "cell_type": "code",
   "execution_count": 188,
   "id": "ae8032ab",
   "metadata": {},
   "outputs": [
    {
     "name": "stdout",
     "output_type": "stream",
     "text": [
      "[1, 2, 3, 4, 5, 6, 7, 8, 9]\n"
     ]
    }
   ],
   "source": [
    "## Flattening a list of tuples to a list of integers\n",
    "list_of_tuple_integers = [(1, 2, 3), (4, 5, 6), (7, 8, 9)]\n",
    "flattened = [integer for integers in list_of_tuple_integers for integer in integers]\n",
    "print(flattened)"
   ]
  },
  {
   "cell_type": "code",
   "execution_count": 190,
   "id": "e9694c5e",
   "metadata": {},
   "outputs": [
    {
     "name": "stdout",
     "output_type": "stream",
     "text": [
      "[1, 2, 3, 4, 5, 6, 7, 8, 9]\n"
     ]
    }
   ],
   "source": [
    "## Same code using for loops -> Order of execution does not change\n",
    "flattened = []\n",
    "for tup in list_of_tuple_integers: \n",
    "    for x in tup:\n",
    "            flattened.append(x)\n",
    "print(flattened)"
   ]
  },
  {
   "cell_type": "code",
   "execution_count": 192,
   "id": "5174c0ac",
   "metadata": {},
   "outputs": [
    {
     "name": "stdout",
     "output_type": "stream",
     "text": [
      "[[1, 2, 3], [4, 5, 6], [7, 8, 9]]\n"
     ]
    }
   ],
   "source": [
    "## How to create a list of lists from the same code\n",
    "list_of_tuple_integers = [(1, 2, 3), (4, 5, 6), (7, 8, 9)]\n",
    "list_of_lists_of_integers = [[i for i in integers] for integers in list_of_tuple_integers]\n",
    "print(list_of_lists_of_integers)"
   ]
  },
  {
   "cell_type": "markdown",
   "id": "1a6184b6",
   "metadata": {},
   "source": [
    "###### Note: Comprehensions are useful for unpacking complex data structures\n",
    "                                             --- THE END --- "
   ]
  }
 ],
 "metadata": {
  "kernelspec": {
   "display_name": "Python 3 (ipykernel)",
   "language": "python",
   "name": "python3"
  },
  "language_info": {
   "codemirror_mode": {
    "name": "ipython",
    "version": 3
   },
   "file_extension": ".py",
   "mimetype": "text/x-python",
   "name": "python",
   "nbconvert_exporter": "python",
   "pygments_lexer": "ipython3",
   "version": "3.10.12"
  }
 },
 "nbformat": 4,
 "nbformat_minor": 5
}

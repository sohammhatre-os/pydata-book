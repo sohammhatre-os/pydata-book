{
 "cells": [
  {
   "cell_type": "markdown",
   "id": "00505521",
   "metadata": {},
   "source": [
    "### Introspection"
   ]
  },
  {
   "cell_type": "code",
   "execution_count": 1,
   "id": "20e9b52b",
   "metadata": {},
   "outputs": [],
   "source": [
    "def add_func(a,b):\n",
    "    '''\n",
    "    adds two variables\n",
    "    \n",
    "    Returns\n",
    "    ----------\n",
    "    the sum: type of arguments\n",
    "    \n",
    "    '''\n",
    "    return a+b"
   ]
  },
  {
   "cell_type": "code",
   "execution_count": 2,
   "id": "207aeee0",
   "metadata": {},
   "outputs": [
    {
     "data": {
      "text/plain": [
       "15"
      ]
     },
     "execution_count": 2,
     "metadata": {},
     "output_type": "execute_result"
    }
   ],
   "source": [
    "add_func(5,10)"
   ]
  },
  {
   "cell_type": "code",
   "execution_count": 3,
   "id": "b250213c",
   "metadata": {},
   "outputs": [
    {
     "data": {
      "text/plain": [
       "'Soham Mhatre'"
      ]
     },
     "execution_count": 3,
     "metadata": {},
     "output_type": "execute_result"
    }
   ],
   "source": [
    "add_func('Soham ', 'Mhatre')"
   ]
  },
  {
   "cell_type": "code",
   "execution_count": 4,
   "id": "c94cadc1",
   "metadata": {},
   "outputs": [],
   "source": [
    "add_func?"
   ]
  },
  {
   "cell_type": "code",
   "execution_count": 5,
   "id": "8a4ead59",
   "metadata": {},
   "outputs": [],
   "source": [
    "import numpy as np\n",
    "np.*load*?"
   ]
  },
  {
   "cell_type": "markdown",
   "id": "859b3ab6",
   "metadata": {},
   "source": [
    "### Understanding Scope"
   ]
  },
  {
   "cell_type": "code",
   "execution_count": 6,
   "id": "12a7d25c",
   "metadata": {},
   "outputs": [
    {
     "name": "stdout",
     "output_type": "stream",
     "text": [
      "[4, 2]\n"
     ]
    }
   ],
   "source": [
    "a=[4]\n",
    "b=a\n",
    "a.append(2)\n",
    "print(b)\n",
    "\n",
    "# Observe how value of b changes."
   ]
  },
  {
   "cell_type": "markdown",
   "id": "96e97bbe",
   "metadata": {},
   "source": [
    "### String Formatting"
   ]
  },
  {
   "cell_type": "code",
   "execution_count": 7,
   "id": "b3519de5",
   "metadata": {},
   "outputs": [
    {
     "name": "stdout",
     "output_type": "stream",
     "text": [
      "a equals 4; b equals 5\n"
     ]
    }
   ],
   "source": [
    "a=4; b=5\n",
    "print(f\"a equals {a}; b equals {b}\")"
   ]
  },
  {
   "cell_type": "markdown",
   "id": "c5e44a55",
   "metadata": {},
   "source": [
    "### Checking Object's Type : isinstance"
   ]
  },
  {
   "cell_type": "code",
   "execution_count": 8,
   "id": "5ce9214e",
   "metadata": {},
   "outputs": [
    {
     "name": "stdout",
     "output_type": "stream",
     "text": [
      "True\n",
      "True\n",
      "False\n"
     ]
    }
   ],
   "source": [
    "a=4; b=5.0\n",
    "\n",
    "print(isinstance(a,(int,float)))\n",
    "print(isinstance(b,(int,float)))\n",
    "print(isinstance(b,(str)))"
   ]
  },
  {
   "cell_type": "markdown",
   "id": "908366d8",
   "metadata": {},
   "source": [
    "### Duck Typing : \n",
    "'''\n",
    "If it walks like a duck and quacks like a duck, then it’s a duck.\n",
    "\n",
    "Often you may not care about the type of an object but rather only whether it has certain methods or behavior. \n",
    "'''"
   ]
  },
  {
   "cell_type": "code",
   "execution_count": 9,
   "id": "3b784e72",
   "metadata": {},
   "outputs": [],
   "source": [
    "def isiterable(obj):\n",
    "    try:\n",
    "        iter(obj)\n",
    "        return True\n",
    "    except TypeError: # not iterable\n",
    "        return False"
   ]
  },
  {
   "cell_type": "code",
   "execution_count": 10,
   "id": "2362eab6",
   "metadata": {},
   "outputs": [],
   "source": [
    "iter?"
   ]
  },
  {
   "cell_type": "code",
   "execution_count": 11,
   "id": "2469c7eb",
   "metadata": {},
   "outputs": [
    {
     "data": {
      "text/plain": [
       "True"
      ]
     },
     "execution_count": 11,
     "metadata": {},
     "output_type": "execute_result"
    }
   ],
   "source": [
    "isiterable(\"a string\")"
   ]
  },
  {
   "cell_type": "code",
   "execution_count": 12,
   "id": "abe17552",
   "metadata": {},
   "outputs": [
    {
     "data": {
      "text/plain": [
       "True"
      ]
     },
     "execution_count": 12,
     "metadata": {},
     "output_type": "execute_result"
    }
   ],
   "source": [
    "isiterable([2,3,4])"
   ]
  },
  {
   "cell_type": "code",
   "execution_count": 13,
   "id": "5e4b2e96",
   "metadata": {},
   "outputs": [
    {
     "data": {
      "text/plain": [
       "False"
      ]
     },
     "execution_count": 13,
     "metadata": {},
     "output_type": "execute_result"
    }
   ],
   "source": [
    "isiterable(5)"
   ]
  },
  {
   "cell_type": "code",
   "execution_count": 14,
   "id": "4ec9991f",
   "metadata": {},
   "outputs": [],
   "source": [
    "a=iter(\"a\")"
   ]
  },
  {
   "cell_type": "markdown",
   "id": "c7307a72",
   "metadata": {},
   "source": [
    "### Importing Modules "
   ]
  },
  {
   "cell_type": "code",
   "execution_count": 15,
   "id": "b40cc3f5",
   "metadata": {},
   "outputs": [],
   "source": [
    "import import_basics"
   ]
  },
  {
   "cell_type": "code",
   "execution_count": 16,
   "id": "682e8232",
   "metadata": {},
   "outputs": [
    {
     "data": {
      "text/plain": [
       "3.14159"
      ]
     },
     "execution_count": 16,
     "metadata": {},
     "output_type": "execute_result"
    }
   ],
   "source": [
    "import_basics.PI"
   ]
  },
  {
   "cell_type": "code",
   "execution_count": 18,
   "id": "61af09bd",
   "metadata": {},
   "outputs": [],
   "source": [
    "from import_basics import add_two, sum_binary"
   ]
  },
  {
   "cell_type": "code",
   "execution_count": 19,
   "id": "dc90443c",
   "metadata": {},
   "outputs": [
    {
     "data": {
      "text/plain": [
       "15"
      ]
     },
     "execution_count": 19,
     "metadata": {},
     "output_type": "execute_result"
    }
   ],
   "source": [
    "sum_binary(5,10)"
   ]
  },
  {
   "cell_type": "markdown",
   "id": "3efa9456",
   "metadata": {},
   "source": [
    "### Binary Operators"
   ]
  },
  {
   "cell_type": "markdown",
   "id": "a5f06c93",
   "metadata": {},
   "source": [
    "* a + b\n",
    "* a - b\n",
    "* a * b\n",
    "* a / b\n",
    "* a // b 'Floor Division'\n",
    "* a ** b 'a Raise to the power b'\n",
    "* a & b\n",
    "* a | b\n",
    "* a ^ b\n",
    "* a == b\n",
    "* a != b \n",
    "* a < b\n",
    "* a <= b\n",
    "* a > b \n",
    "* a >= b \n",
    "* a is b 'Referencing to the same object'\n",
    "* a is not b 'Referencing to the same object'"
   ]
  },
  {
   "cell_type": "code",
   "execution_count": 22,
   "id": "f4705291",
   "metadata": {},
   "outputs": [],
   "source": [
    "a=[1,2,3]\n",
    "b=a\n",
    "c=list(a)"
   ]
  },
  {
   "cell_type": "code",
   "execution_count": 23,
   "id": "985bc9d0",
   "metadata": {},
   "outputs": [
    {
     "name": "stdout",
     "output_type": "stream",
     "text": [
      "a is b: True\n",
      "a is b: True\n",
      "c is a: False\n"
     ]
    }
   ],
   "source": [
    "print (f\"a is b: {a is b}\")\n",
    "print (f\"a is b: {b is a}\")\n",
    "print (f\"c is a: {c is a}\")"
   ]
  },
  {
   "cell_type": "code",
   "execution_count": 24,
   "id": "fefc916e",
   "metadata": {},
   "outputs": [
    {
     "data": {
      "text/plain": [
       "True"
      ]
     },
     "execution_count": 24,
     "metadata": {},
     "output_type": "execute_result"
    }
   ],
   "source": [
    "c==a"
   ]
  },
  {
   "cell_type": "code",
   "execution_count": 25,
   "id": "66ef22b3",
   "metadata": {},
   "outputs": [
    {
     "data": {
      "text/plain": [
       "True"
      ]
     },
     "execution_count": 25,
     "metadata": {},
     "output_type": "execute_result"
    }
   ],
   "source": [
    "a=None\n",
    "a is None"
   ]
  },
  {
   "cell_type": "markdown",
   "id": "7eabf8cc",
   "metadata": {},
   "source": [
    "### Mutable and Immutable\n",
    "* Lists are mutable \n",
    "* Tuples are immutable"
   ]
  },
  {
   "cell_type": "code",
   "execution_count": 26,
   "id": "3a067b0d",
   "metadata": {},
   "outputs": [
    {
     "data": {
      "text/plain": [
       "['foo', 2, (3, 4)]"
      ]
     },
     "execution_count": 26,
     "metadata": {},
     "output_type": "execute_result"
    }
   ],
   "source": [
    "a_list = [\"foo\", 2, [4, 5]]\n",
    "a_list[2] = (3, 4)\n",
    "a_list"
   ]
  },
  {
   "cell_type": "code",
   "execution_count": 27,
   "id": "a1669467",
   "metadata": {},
   "outputs": [
    {
     "ename": "TypeError",
     "evalue": "'tuple' object does not support item assignment",
     "output_type": "error",
     "traceback": [
      "\u001b[0;31m---------------------------------------------------------------------------\u001b[0m",
      "\u001b[0;31mTypeError\u001b[0m                                 Traceback (most recent call last)",
      "Cell \u001b[0;32mIn[27], line 2\u001b[0m\n\u001b[1;32m      1\u001b[0m a_tuple \u001b[38;5;241m=\u001b[39m (\u001b[38;5;241m3\u001b[39m, \u001b[38;5;241m5\u001b[39m, (\u001b[38;5;241m4\u001b[39m, \u001b[38;5;241m5\u001b[39m))\n\u001b[0;32m----> 2\u001b[0m \u001b[43ma_tuple\u001b[49m\u001b[43m[\u001b[49m\u001b[38;5;241;43m1\u001b[39;49m\u001b[43m]\u001b[49m \u001b[38;5;241m=\u001b[39m \u001b[38;5;124m\"\u001b[39m\u001b[38;5;124mfour\u001b[39m\u001b[38;5;124m\"\u001b[39m\n",
      "\u001b[0;31mTypeError\u001b[0m: 'tuple' object does not support item assignment"
     ]
    }
   ],
   "source": [
    "a_tuple = (3, 5, (4, 5))\n",
    "a_tuple[1] = \"four\""
   ]
  },
  {
   "cell_type": "markdown",
   "id": "2bc172b4",
   "metadata": {},
   "source": [
    "### String Functions"
   ]
  },
  {
   "cell_type": "code",
   "execution_count": null,
   "id": "fb3ea81a",
   "metadata": {},
   "outputs": [],
   "source": [
    "# count function"
   ]
  },
  {
   "cell_type": "code",
   "execution_count": 31,
   "id": "1670af32",
   "metadata": {},
   "outputs": [],
   "source": [
    "c=\"\"\"\n",
    "This is a longer string that \n",
    "spans multiple lines\n",
    "\"\"\""
   ]
  },
  {
   "cell_type": "code",
   "execution_count": 34,
   "id": "83b4cf9b",
   "metadata": {},
   "outputs": [
    {
     "data": {
      "text/plain": [
       "(3, 5)"
      ]
     },
     "execution_count": 34,
     "metadata": {},
     "output_type": "execute_result"
    }
   ],
   "source": [
    "c.count(\"\\n\"),c.count(\"i\")"
   ]
  },
  {
   "cell_type": "code",
   "execution_count": null,
   "id": "cc372c16",
   "metadata": {},
   "outputs": [],
   "source": [
    "# replace function"
   ]
  },
  {
   "cell_type": "code",
   "execution_count": 35,
   "id": "390b7f4e",
   "metadata": {},
   "outputs": [
    {
     "data": {
      "text/plain": [
       "'\\nThis is a string that \\nspans multiple lines\\n'"
      ]
     },
     "execution_count": 35,
     "metadata": {},
     "output_type": "execute_result"
    }
   ],
   "source": [
    "c.replace(\"longer string\",\"string\")"
   ]
  },
  {
   "cell_type": "code",
   "execution_count": 36,
   "id": "73efb616",
   "metadata": {},
   "outputs": [],
   "source": [
    "# Manipulating a string like a list"
   ]
  },
  {
   "cell_type": "code",
   "execution_count": 41,
   "id": "569a244e",
   "metadata": {},
   "outputs": [
    {
     "name": "stdout",
     "output_type": "stream",
     "text": [
      "['p', 'y', 't', 'h', 'o', 'n', 'i', 's', 'f', 'u', 'n']\n"
     ]
    }
   ],
   "source": [
    "aString='python'\n",
    "stringAsList=list(aString)\n",
    "stringAsListB=list('isfun')\n",
    "print(stringAsList+stringAsListB)"
   ]
  },
  {
   "cell_type": "code",
   "execution_count": 42,
   "id": "d6d46776",
   "metadata": {},
   "outputs": [
    {
     "data": {
      "text/plain": [
       "'py'"
      ]
     },
     "execution_count": 42,
     "metadata": {},
     "output_type": "execute_result"
    }
   ],
   "source": [
    "aString[:2]"
   ]
  },
  {
   "cell_type": "code",
   "execution_count": 46,
   "id": "cd1b8225",
   "metadata": {},
   "outputs": [
    {
     "name": "stdout",
     "output_type": "stream",
     "text": [
      "this\\has\\no\\special\\characters\n"
     ]
    }
   ],
   "source": [
    "specialString=r\"this\\has\\no\\special\\characters\"\n",
    "print(specialString)"
   ]
  },
  {
   "cell_type": "code",
   "execution_count": 47,
   "id": "8c82565d",
   "metadata": {},
   "outputs": [
    {
     "data": {
      "text/plain": [
       "'this\\\\has\\\\no\\\\special\\\\characters'"
      ]
     },
     "execution_count": 47,
     "metadata": {},
     "output_type": "execute_result"
    }
   ],
   "source": [
    "specialString"
   ]
  },
  {
   "cell_type": "markdown",
   "id": "2609e2ae",
   "metadata": {},
   "source": [
    "## DateTime Module"
   ]
  },
  {
   "cell_type": "code",
   "execution_count": 48,
   "id": "281d1b56",
   "metadata": {},
   "outputs": [],
   "source": [
    "from datetime import datetime, date, time"
   ]
  },
  {
   "cell_type": "code",
   "execution_count": 55,
   "id": "362ebb58",
   "metadata": {},
   "outputs": [],
   "source": [
    "dt = datetime(2023, 6, 29, 20, 30, 21)"
   ]
  },
  {
   "cell_type": "code",
   "execution_count": 56,
   "id": "abd04c1b",
   "metadata": {},
   "outputs": [
    {
     "data": {
      "text/plain": [
       "6"
      ]
     },
     "execution_count": 56,
     "metadata": {},
     "output_type": "execute_result"
    }
   ],
   "source": [
    "dt.month"
   ]
  },
  {
   "cell_type": "code",
   "execution_count": 57,
   "id": "beef696b",
   "metadata": {},
   "outputs": [
    {
     "data": {
      "text/plain": [
       "29"
      ]
     },
     "execution_count": 57,
     "metadata": {},
     "output_type": "execute_result"
    }
   ],
   "source": [
    "dt.day"
   ]
  },
  {
   "cell_type": "code",
   "execution_count": 66,
   "id": "578fec07",
   "metadata": {},
   "outputs": [
    {
     "data": {
      "text/plain": [
       "3"
      ]
     },
     "execution_count": 66,
     "metadata": {},
     "output_type": "execute_result"
    }
   ],
   "source": [
    "dt.weekday()"
   ]
  },
  {
   "cell_type": "code",
   "execution_count": 67,
   "id": "fc1cd82f",
   "metadata": {},
   "outputs": [
    {
     "data": {
      "text/plain": [
       "datetime.date(2023, 6, 29)"
      ]
     },
     "execution_count": 67,
     "metadata": {},
     "output_type": "execute_result"
    }
   ],
   "source": [
    "dt.date()"
   ]
  },
  {
   "cell_type": "code",
   "execution_count": null,
   "id": "c7446549",
   "metadata": {},
   "outputs": [],
   "source": [
    "## Formats datetime as string"
   ]
  },
  {
   "cell_type": "code",
   "execution_count": 70,
   "id": "8ed58f0f",
   "metadata": {},
   "outputs": [
    {
     "data": {
      "text/plain": [
       "'2023-06-29 20:30:21'"
      ]
     },
     "execution_count": 70,
     "metadata": {},
     "output_type": "execute_result"
    }
   ],
   "source": [
    "dt.strftime(\"%Y-%m-%d %H:%M:%S\")"
   ]
  },
  {
   "cell_type": "code",
   "execution_count": null,
   "id": "2377f5a9",
   "metadata": {},
   "outputs": [],
   "source": [
    "## Converts string to datetime"
   ]
  },
  {
   "cell_type": "code",
   "execution_count": 72,
   "id": "26856f1d",
   "metadata": {},
   "outputs": [
    {
     "data": {
      "text/plain": [
       "datetime.datetime(2023, 6, 30, 0, 0)"
      ]
     },
     "execution_count": 72,
     "metadata": {},
     "output_type": "execute_result"
    }
   ],
   "source": [
    "datetime.strptime(\"20230630\", \"%Y%m%d\")"
   ]
  },
  {
   "cell_type": "code",
   "execution_count": 73,
   "id": "fd710d1a",
   "metadata": {},
   "outputs": [],
   "source": [
    "dt_hour = dt.replace(minute=0, second=0)"
   ]
  },
  {
   "cell_type": "code",
   "execution_count": 74,
   "id": "10730284",
   "metadata": {},
   "outputs": [
    {
     "data": {
      "text/plain": [
       "datetime.datetime(2023, 6, 29, 20, 0)"
      ]
     },
     "execution_count": 74,
     "metadata": {},
     "output_type": "execute_result"
    }
   ],
   "source": [
    "dt_hour"
   ]
  },
  {
   "cell_type": "code",
   "execution_count": 75,
   "id": "3f8e56a0",
   "metadata": {},
   "outputs": [],
   "source": [
    "## Time delta"
   ]
  },
  {
   "cell_type": "code",
   "execution_count": 78,
   "id": "1bb7fb78",
   "metadata": {},
   "outputs": [],
   "source": [
    "dt2 = datetime(2011, 11, 15, 22, 30)"
   ]
  },
  {
   "cell_type": "code",
   "execution_count": 79,
   "id": "e04cc5c6",
   "metadata": {},
   "outputs": [],
   "source": [
    "delta = dt2 - dt"
   ]
  },
  {
   "cell_type": "code",
   "execution_count": 83,
   "id": "ffd23be6",
   "metadata": {},
   "outputs": [
    {
     "data": {
      "text/plain": [
       "datetime.datetime(2011, 11, 15, 22, 30)"
      ]
     },
     "execution_count": 83,
     "metadata": {},
     "output_type": "execute_result"
    }
   ],
   "source": [
    "dt + delta"
   ]
  },
  {
   "cell_type": "code",
   "execution_count": 84,
   "id": "af27bc14",
   "metadata": {},
   "outputs": [
    {
     "data": {
      "text/plain": [
       "True"
      ]
     },
     "execution_count": 84,
     "metadata": {},
     "output_type": "execute_result"
    }
   ],
   "source": [
    "dt2==dt + delta"
   ]
  },
  {
   "cell_type": "markdown",
   "id": "d18a9867",
   "metadata": {},
   "source": [
    "### Control Flow"
   ]
  },
  {
   "cell_type": "markdown",
   "id": "ef192156",
   "metadata": {},
   "source": [
    "### if, elif, and else"
   ]
  },
  {
   "cell_type": "code",
   "execution_count": 86,
   "id": "3a04054e",
   "metadata": {},
   "outputs": [
    {
     "name": "stdout",
     "output_type": "stream",
     "text": [
      "It's negative\n"
     ]
    }
   ],
   "source": [
    "x = -5\n",
    "if x < 0:\n",
    "    print(\"It's negative\")"
   ]
  },
  {
   "cell_type": "code",
   "execution_count": 88,
   "id": "aca3eb64",
   "metadata": {},
   "outputs": [],
   "source": [
    "x = 5"
   ]
  },
  {
   "cell_type": "code",
   "execution_count": 89,
   "id": "2f1f921f",
   "metadata": {},
   "outputs": [
    {
     "name": "stdout",
     "output_type": "stream",
     "text": [
      "Positive and larger than or equal to 5\n"
     ]
    }
   ],
   "source": [
    "if x < 0:\n",
    "    print(\"It's negative\")\n",
    "elif x == 0:\n",
    "    print(\"Equal to zero\")\n",
    "elif 0 < x < 5:\n",
    "    print(\"Positive but smaller than 5\")\n",
    "else:\n",
    "    print(\"Positive and larger than or equal to 5\")"
   ]
  },
  {
   "cell_type": "markdown",
   "id": "7954bba3",
   "metadata": {},
   "source": [
    "### for loops"
   ]
  },
  {
   "cell_type": "code",
   "execution_count": 90,
   "id": "3f787c74",
   "metadata": {},
   "outputs": [],
   "source": [
    "sequence = [1, 2, None, 4, None, 5] \n",
    "total = 0\n",
    "for value in sequence:\n",
    "    if value is None: \n",
    "        continue\n",
    "    total += value"
   ]
  },
  {
   "cell_type": "code",
   "execution_count": 91,
   "id": "802e5bd4",
   "metadata": {},
   "outputs": [
    {
     "name": "stdout",
     "output_type": "stream",
     "text": [
      "12\n"
     ]
    }
   ],
   "source": [
    "print(total)"
   ]
  },
  {
   "cell_type": "code",
   "execution_count": 94,
   "id": "83fd919c",
   "metadata": {},
   "outputs": [],
   "source": [
    "sequence.pop(4)"
   ]
  },
  {
   "cell_type": "markdown",
   "id": "0823de17",
   "metadata": {},
   "source": [
    "### while loops"
   ]
  },
  {
   "cell_type": "code",
   "execution_count": 96,
   "id": "53f0abda",
   "metadata": {},
   "outputs": [
    {
     "name": "stdout",
     "output_type": "stream",
     "text": [
      "504\n"
     ]
    }
   ],
   "source": [
    "x=256 \n",
    "total = 0 \n",
    "\n",
    "while x>0:\n",
    "    if total > 500: \n",
    "        break\n",
    "    total += x \n",
    "    x=x//2\n",
    "    \n",
    "print(total)"
   ]
  },
  {
   "cell_type": "code",
   "execution_count": null,
   "id": "bb2eeb62",
   "metadata": {},
   "outputs": [],
   "source": [
    "## pass = skip step."
   ]
  },
  {
   "cell_type": "code",
   "execution_count": 99,
   "id": "4872c258",
   "metadata": {},
   "outputs": [],
   "source": [
    "x=0"
   ]
  },
  {
   "cell_type": "code",
   "execution_count": 100,
   "id": "b991bfad",
   "metadata": {},
   "outputs": [],
   "source": [
    "if x < 0: \n",
    "    print(\"negative!\")\n",
    "elif x==0:\n",
    "    pass\n",
    "# TODO: put something smart here pass\n",
    "else: \n",
    "    print(\"positive!\")\n"
   ]
  },
  {
   "cell_type": "markdown",
   "id": "a5dd83f0",
   "metadata": {},
   "source": [
    "### Sum of multiples of x and y"
   ]
  },
  {
   "cell_type": "code",
   "execution_count": 114,
   "id": "2cb55d67",
   "metadata": {},
   "outputs": [],
   "source": [
    "total = 0\n",
    "\n",
    "def range_sum_with_x_y_multiples(range_num, x, y):\n",
    "    '''\n",
    "    Calculates sum of multiples of x and y till range_num\n",
    "    -----\n",
    "    Returns sum\n",
    "    \n",
    "    '''\n",
    "    total = 0\n",
    "    for i in range(range_num):\n",
    "        if x == 0 or y == 0:\n",
    "            print('Division by Zero: not allowed')\n",
    "            break\n",
    "        elif i%x == 0 or i%y == 0:\n",
    "            total+=i\n",
    "    if x == 0 or y == 0 :\n",
    "        return None\n",
    "    else:\n",
    "        return total"
   ]
  },
  {
   "cell_type": "code",
   "execution_count": 115,
   "id": "abde9f50",
   "metadata": {},
   "outputs": [
    {
     "name": "stdout",
     "output_type": "stream",
     "text": [
      "Division by Zero: not allowed\n"
     ]
    }
   ],
   "source": [
    "range_sum_with_x_y_multiples(1000,1,0)"
   ]
  }
 ],
 "metadata": {
  "kernelspec": {
   "display_name": "Python 3 (ipykernel)",
   "language": "python",
   "name": "python3"
  },
  "language_info": {
   "codemirror_mode": {
    "name": "ipython",
    "version": 3
   },
   "file_extension": ".py",
   "mimetype": "text/x-python",
   "name": "python",
   "nbconvert_exporter": "python",
   "pygments_lexer": "ipython3",
   "version": "3.10.12"
  }
 },
 "nbformat": 4,
 "nbformat_minor": 5
}
